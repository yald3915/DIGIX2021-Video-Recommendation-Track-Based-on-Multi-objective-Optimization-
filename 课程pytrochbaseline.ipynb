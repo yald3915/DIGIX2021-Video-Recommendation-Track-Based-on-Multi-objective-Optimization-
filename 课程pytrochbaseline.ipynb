{
 "cells": [
  {
   "cell_type": "markdown",
   "metadata": {},
   "source": [
    "# 基于多目标优化的视频推荐\n",
    "\n",
    "## 赛题简介\n",
    "\n",
    "推荐系统大多都是基于隐式反馈来做推荐，比如用户的点击、观看时长、评论、分享等，且不同隐式反馈表达了用户不同的喜好程度。如果仅仅以单目标对推荐结果进行衡量，会存在衡量不全面的问题。如视频场景，假设某个用户打开一个视频看了开头觉得不喜欢立马关掉，如果以点击为目标则体现的是用户感兴趣，但实际情况是用户对这个视频不感兴趣。从这个例子可以看出，在视频推荐中如果仅仅以点击为目标，可能忽视了用户更深层次的隐式反馈。因此，视频推荐除了关注用户点击，还需关注用户观看时长、分享等目标，期望通过多目标能更深入地挖掘用户兴趣，做更精准的推荐。\n",
    "\n",
    "https://developer.huawei.com/consumer/cn/activity/devStarAI/algo/competition.html#/preliminary/info/006/introduction\n",
    "\n",
    "## 赛题说明\n",
    "\n",
    "本赛题提供14天数据用于训练，1天数据用于测试，数据包括用户特征，视频内容特征，以及用户历史行为数据，选手基于给出的数据，提供推荐策略，目标是预测每位用户观看视频时长所在区间，且预测是否对视频进行分享。所提供的数据经过脱敏处理，保证数据安全。\n",
    "\n",
    "## 赛题类型\n",
    "\n",
    "- 评价指标：AUC加权和\n",
    "- 赛题类型：用户留存预测，结构化数据"
   ]
  },
  {
   "cell_type": "markdown",
   "metadata": {},
   "source": [
    "## 赛题数据\n",
    "\n",
    "https://digix-algo-challenge.obs.cn-east-2.myhuaweicloud.com/2021/AI/4d83d37a6bc6e83d0da3af019c18775c/2021_3_data.zip\n",
    "\n",
    "提供的数据包括用户维度、视频维度以及用户历史行为数据，以下按照这三个维度分别说明。\n",
    "\n",
    "\n",
    "### 用户特征\n",
    "\n",
    "| 字段名称 | 说明 | 是否为空 | 类型 | 取值样例 |\n",
    "| :------- | :--- | :------- | :--- | :------- |\n",
    "| user_id     | 用户ID   | 否   | string | 1    |\n",
    "| age         | 年龄段   | 是   | string | 0    |\n",
    "| gender      | 性别     | 是   | string | 1    |\n",
    "| country     | 国家     | 是   | string | 0    |\n",
    "| province    | 所在省份 | 是   | string | 0    |\n",
    "| city        | 所在城市 | 是   | string | 0    |\n",
    "| city_level  | 城市级别 | 是   | string | 0    |\n",
    "| device_name | 设备类型 | 是   | string | 0    |\n",
    "\n",
    "\n",
    "### 视频内容特征\n",
    "\n",
    "| 字段名称 | 说明 | 是否为空 | 类型 | 取值样例 |\n",
    "| :------- | :--- | :------- | :--- | :------- |\n",
    "| video_id            | 视频ID           | 否   | string | 16451                                                        |\n",
    "| video_name          | 视频名称         | 是   | string | 天下无贼                                                     |\n",
    "| video_tags          | 视频标签         | 是   | string | 扒手,反扒,t,tx,txm,txmz,txw,txwz,天下无贼,刘德华,刘若英,王宝强,冯小刚,张晞临,芒果TV,院线,剧情,李冰冰,葛优,动作,犯罪 |\n",
    "| video_description   | 视频描述         | 是   | string | 王薄（刘德华 饰）和王丽（刘若英 饰）本是一对最佳贼拍档，但因怀了王薄的孩子，王丽决定收手赎罪，两人产生分歧。在火车站遇到刚刚从城市里挣了一笔钱准备回老家用它盖房子娶媳妇的农村娃子傻根（王宝强 饰）后，王丽被他的单纯打动，决定暗中保护不使他的辛苦钱失窃，王薄却寻思找合适机会下手，但 最终因为“夫妻情深”归入了王丽的阵营。 不料傻根的钱早被以黎叔（葛优 饰）为头目的另一著名扒窃团伙盯上，于是一系列围绕傻根书包里的钞票、在王薄、王丽和黎叔团伙之间展开的强强斗争上演。 |\n",
    "| video_release_date  | 年代             | 是   | string | 2004/12/9                                                    |\n",
    "| video_director_list | 导演名称         | 是   | string | 冯小刚,林黎胜                                                |\n",
    "| video_actor_list    | 演员名称         | 是   | string | 刘德华,葛优,刘若英,王宝强                                    |\n",
    "| video_score         | 评分             | 是   | string | 8.5                                                          |\n",
    "| video_second_class  | 视频二级分类名称 | 是   | string | 喜剧,剧情,警匪,动作,犯罪                                     |\n",
    "| video_duration      | 视频时长，单位秒 | 是   | string | 7246                                                         |\n",
    "\n",
    "### 用户历史行为\n",
    "\n",
    "| 字段名称 | 说明 | 是否为空 | 类型 | 取值样例 |\n",
    "| :------- | :--- | :------- | :--- | :------- |\n",
    "| user_id          | 用户id             | 否   | string | 1         |\n",
    "| video_id         | 视频id             | 否   | string | 16451     |\n",
    "| is_watch         | 是否播放           | 是   | int    | 1         |\n",
    "| is_share         | 是否分享           | 是   | int    | 0         |\n",
    "| is_collect       | 是否收藏           | 是   | int    | 0         |\n",
    "| is_comment       | 是否评论           | 是   | int    | 0         |\n",
    "| watch_start_time | 观看时间           | 是   | string | 2020-11-3 |\n",
    "| watch_label      | 播放标签           | 是   | int    | 8         |\n",
    "| pt_d             | 时间，用于数据分区 | 是   | string | 20201103  |\n"
   ]
  },
  {
   "cell_type": "markdown",
   "metadata": {},
   "source": [
    "## 评估方式\n",
    "\n",
    "预测每位用户对视频观看时长所在区间，且预测是否对视频进行分享。本次比赛使用 AUC（ROC曲线下面积）作为评估指标，AUC 越高，代表结果越优，排名越靠前。各指标的AUC采用加权求和。\n",
    "\n",
    "$$score = α*(0.1*AUC_{watch1}+ 0.2*AUC_{watch2}+0.3*AUC_{watch3}+0.4*AUC_{watch4}+0.5*AUC_{watch5}+0.6*AUC_{watch6}+0.7*AUC_{watch7} +0.8*AUC_{watch8} +0.9*AUC_{watch9} )+β*AUC_{share}$$\n",
    "\n",
    "初赛：α为0.7，β为0.3\n",
    "\n",
    "其中：视频观看时长、label、加权权重的对应关系如下。\n",
    "\n",
    "| 观看时长区间【左闭右开区间】 | watch_label | 加权权重 |\n",
    "| :--------------------------- | :---------- | :------- |\n",
    "| 0~10%总片长    | 0    | 0    |\n",
    "| 10~20%总片长   | 1    | 0.1  |\n",
    "| 20%~30%总片长  | 2    | 0.2  |\n",
    "| 30%~40%总片长  | 3    | 0.3  |\n",
    "| 40%~50%总片长  | 4    | 0.4  |\n",
    "| 50%~60%总片长  | 5    | 0.5  |\n",
    "| 60%~70%总片长  | 6    | 0.6  |\n",
    "| 70%~80%总片长  | 7    | 0.7  |\n",
    "| 80%~90%总片长  | 8    | 0.8  |\n",
    "| 90%~100%总片长 | 9    | 0.9  |\n",
    "\n",
    "## 提交方式\n",
    "\n",
    "选手提交结果为一个submission.csv 文件, 编码采用无BOM 的UTF-8，格式如下：user_id, video_id, watch_label, is_share。\n",
    "\n",
    "其中user_id对应测试样本中的user_id，video_id对应测试样本的video_id，watch_label表示user_id观看video_id时长所在的时长区间，is_share表示用户是否对该视频进行了分享。user_id，video_id，watch_label，is_share间采用逗号分隔。\n",
    "\n",
    "提交文件格式参考如下示例：\n",
    "\n",
    "| user_id | video_id | watch_label | is_share |\n",
    "| :------ | :------- | :---------- | :------- |\n",
    "| 1    | 1    | 6    | 0    |\n",
    "| 1    | 1    | 9    | 1    |\n",
    "| ...  | ...  | ...  | ...  |"
   ]
  },
  {
   "cell_type": "code",
   "execution_count": 17,
   "metadata": {
    "execution": {
     "iopub.execute_input": "2021-07-18T16:50:32.739502Z",
     "iopub.status.busy": "2021-07-18T16:50:32.738928Z",
     "iopub.status.idle": "2021-07-18T16:50:32.858053Z",
     "shell.execute_reply": "2021-07-18T16:50:32.856611Z",
     "shell.execute_reply.started": "2021-07-18T16:50:32.739454Z"
    },
    "tags": []
   },
   "outputs": [
    {
     "name": "stdout",
     "output_type": "stream",
     "text": [
      "-rw-rw-r--  1  40M 2021-05-11 20:53:52.000000000 +0800 3/testdata/test.csv\n",
      "\n",
      "3/traindata/history_behavior_data:\n",
      "总用量 56K\n",
      "drwxrwxr-x 2 4.0K 2021-05-11 14:09:32.000000000 +0800 20210419\n",
      "drwxrwxr-x 2 4.0K 2021-05-11 14:09:36.000000000 +0800 20210420\n",
      "drwxrwxr-x 2 4.0K 2021-05-11 14:09:40.000000000 +0800 20210421\n",
      "drwxrwxr-x 2 4.0K 2021-05-11 14:09:44.000000000 +0800 20210422\n",
      "drwxrwxr-x 2 4.0K 2021-05-11 14:09:46.000000000 +0800 20210423\n",
      "drwxrwxr-x 2 4.0K 2021-05-11 14:09:54.000000000 +0800 20210424\n",
      "drwxrwxr-x 2 4.0K 2021-05-11 14:09:58.000000000 +0800 20210425\n",
      "drwxrwxr-x 2 4.0K 2021-05-11 14:10:02.000000000 +0800 20210426\n",
      "drwxrwxr-x 2 4.0K 2021-05-11 14:10:06.000000000 +0800 20210427\n",
      "drwxrwxr-x 2 4.0K 2021-05-11 14:10:10.000000000 +0800 20210428\n",
      "drwxrwxr-x 2 4.0K 2021-05-11 14:10:12.000000000 +0800 20210429\n",
      "drwxrwxr-x 2 4.0K 2021-05-11 14:10:18.000000000 +0800 20210430\n",
      "drwxrwxr-x 2 4.0K 2021-05-11 14:10:22.000000000 +0800 20210501\n",
      "drwxrwxr-x 2 4.0K 2021-05-11 14:10:24.000000000 +0800 20210502\n",
      "\n",
      "3/traindata/user_features_data:\n",
      "总用量 139M\n",
      "-rw-rw-r-- 1 139M 2021-05-11 10:28:00.000000000 +0800 user_features_data.csv\n",
      "\n",
      "3/traindata/video_features_data:\n",
      "总用量 35M\n",
      "-rw-rw-r-- 1 35M 2021-05-11 10:27:42.000000000 +0800 video_features_data.csv\n"
     ]
    }
   ],
   "source": [
    "!ls 3/*/* --full-time -Ggh"
   ]
  },
  {
   "cell_type": "code",
   "execution_count": 33,
   "metadata": {
    "execution": {
     "iopub.execute_input": "2021-07-18T17:15:46.427165Z",
     "iopub.status.busy": "2021-07-18T17:15:46.426685Z",
     "iopub.status.idle": "2021-07-18T17:15:46.558558Z",
     "shell.execute_reply": "2021-07-18T17:15:46.557438Z",
     "shell.execute_reply.started": "2021-07-18T17:15:46.427125Z"
    },
    "tags": []
   },
   "outputs": [
    {
     "name": "stdout",
     "output_type": "stream",
     "text": [
      "part-00000-236b99d5-456a-42b2-bd8d-3cbd61d21cc6-c000.csv\n"
     ]
    }
   ],
   "source": [
    "!ls 3/traindata/history_behavior_data/20210419/"
   ]
  },
  {
   "cell_type": "markdown",
   "metadata": {},
   "source": [
    "# 数据读取"
   ]
  },
  {
   "cell_type": "code",
   "execution_count": 1,
   "metadata": {
    "execution": {
     "iopub.execute_input": "2021-07-20T13:21:41.720391Z",
     "iopub.status.busy": "2021-07-20T13:21:41.719833Z",
     "iopub.status.idle": "2021-07-20T13:22:46.583175Z",
     "shell.execute_reply": "2021-07-20T13:22:46.582702Z",
     "shell.execute_reply.started": "2021-07-20T13:21:41.720344Z"
    },
    "tags": []
   },
   "outputs": [
    {
     "name": "stdout",
     "output_type": "stream",
     "text": [
      "Populating the interactive namespace from numpy and matplotlib\n"
     ]
    },
    {
     "name": "stderr",
     "output_type": "stream",
     "text": [
      "/home/lyz/.local/lib/python3.6/site-packages/IPython/core/interactiveshell.py:3263: DtypeWarning: Columns (6) have mixed types.Specify dtype option on import or set low_memory=False.\n",
      "  if (await self.run_code(code, result,  async_=asy)):\n"
     ]
    },
    {
     "name": "stdout",
     "output_type": "stream",
     "text": [
      "378.43 Mb, 131.40 Mb (65.28 %)\n",
      "405.14 Mb, 140.67 Mb (65.28 %)\n",
      "437.46 Mb, 151.90 Mb (65.28 %)\n",
      "374.51 Mb, 130.04 Mb (65.28 %)\n",
      "387.82 Mb, 134.66 Mb (65.28 %)\n",
      "372.54 Mb, 129.35 Mb (65.28 %)\n",
      "383.36 Mb, 133.11 Mb (65.28 %)\n",
      "397.30 Mb, 137.95 Mb (65.28 %)\n",
      "444.39 Mb, 154.30 Mb (65.28 %)\n",
      "347.10 Mb, 120.52 Mb (65.28 %)\n",
      "368.09 Mb, 127.81 Mb (65.28 %)\n",
      "448.31 Mb, 155.66 Mb (65.28 %)\n",
      "388.03 Mb, 134.73 Mb (65.28 %)\n",
      "379.69 Mb, 131.84 Mb (65.28 %)\n",
      "43.06 Mb, 21.53 Mb (50.00 %)\n",
      "360.77 Mb, 73.28 Mb (79.69 %)\n",
      "3.79 Mb, 3.04 Mb (20.00 %)\n",
      "2526.41 Mb, 2526.41 Mb (0.00 %)\n"
     ]
    }
   ],
   "source": [
    "import pandas as pd\n",
    "import glob, gc\n",
    "\n",
    "%pylab inline\n",
    "import seaborn as sns\n",
    "\n",
    "INPUT_PATH = './3'\n",
    "\n",
    "def reduce_mem(df):\n",
    "    start_mem = df.memory_usage().sum() / 1024 ** 2\n",
    "    for col in df.columns:\n",
    "        col_type = df[col].dtypes\n",
    "        if col_type != object:\n",
    "            c_min = df[col].min()\n",
    "            c_max = df[col].max()\n",
    "            if str(col_type)[:3] == 'int':\n",
    "                if c_min > np.iinfo(np.int8).min and c_max < np.iinfo(np.int8).max:\n",
    "                    df[col] = df[col].astype(np.int8)\n",
    "                elif c_min > np.iinfo(np.int16).min and c_max < np.iinfo(np.int16).max:\n",
    "                    df[col] = df[col].astype(np.int16)\n",
    "                elif c_min > np.iinfo(np.int32).min and c_max < np.iinfo(np.int32).max:\n",
    "                    df[col] = df[col].astype(np.int32)\n",
    "                elif c_min > np.iinfo(np.int64).min and c_max < np.iinfo(np.int64).max:\n",
    "                    df[col] = df[col].astype(np.int64)\n",
    "            else:\n",
    "                if c_min > np.finfo(np.float16).min and c_max < np.finfo(np.float16).max:\n",
    "                    df[col] = df[col].astype(np.float16)\n",
    "                elif c_min > np.finfo(np.float32).min and c_max < np.finfo(np.float32).max:\n",
    "                    df[col] = df[col].astype(np.float32)\n",
    "                else:\n",
    "                    df[col] = df[col].astype(np.float64)\n",
    "    end_mem = df.memory_usage().sum() / 1024 ** 2\n",
    "    print('{:.2f} Mb, {:.2f} Mb ({:.2f} %)'.format(start_mem, end_mem, 100 * (start_mem - end_mem) / start_mem))\n",
    "    gc.collect()\n",
    "    return df\n",
    "\n",
    "test_data = pd.read_csv(f'{INPUT_PATH}/testdata/test.csv', sep=',')\n",
    "user_features = pd.read_csv(f'{INPUT_PATH}/traindata/user_features_data/user_features_data.csv', sep='\\t')\n",
    "video_features = pd.read_csv(f'{INPUT_PATH}/traindata/video_features_data/video_features_data.csv', sep='\\t')\n",
    "history_behavior = pd.concat([\n",
    "    reduce_mem(pd.read_csv(x, sep='\\t')) for x in glob.glob(f'{INPUT_PATH}/traindata/history_behavior_data/*/*')\n",
    "])\n",
    "history_behavior = history_behavior.sort_values(by=['pt_d', 'user_id'])\n",
    "\n",
    "test_data = reduce_mem(test_data)\n",
    "user_features = reduce_mem(user_features)\n",
    "video_features = reduce_mem(video_features)\n",
    "history_behavior = reduce_mem(history_behavior)\n"
   ]
  },
  {
   "cell_type": "code",
   "execution_count": 2,
   "metadata": {
    "execution": {
     "iopub.execute_input": "2021-07-20T13:23:05.582940Z",
     "iopub.status.busy": "2021-07-20T13:23:05.582374Z",
     "iopub.status.idle": "2021-07-20T13:23:05.596531Z",
     "shell.execute_reply": "2021-07-20T13:23:05.596046Z",
     "shell.execute_reply.started": "2021-07-20T13:23:05.582893Z"
    },
    "tags": []
   },
   "outputs": [
    {
     "data": {
      "text/html": [
       "<div>\n",
       "<style scoped>\n",
       "    .dataframe tbody tr th:only-of-type {\n",
       "        vertical-align: middle;\n",
       "    }\n",
       "\n",
       "    .dataframe tbody tr th {\n",
       "        vertical-align: top;\n",
       "    }\n",
       "\n",
       "    .dataframe thead th {\n",
       "        text-align: right;\n",
       "    }\n",
       "</style>\n",
       "<table border=\"1\" class=\"dataframe\">\n",
       "  <thead>\n",
       "    <tr style=\"text-align: right;\">\n",
       "      <th></th>\n",
       "      <th>user_id</th>\n",
       "      <th>age</th>\n",
       "      <th>gender</th>\n",
       "      <th>country</th>\n",
       "      <th>province</th>\n",
       "      <th>city</th>\n",
       "      <th>city_level</th>\n",
       "      <th>device_name</th>\n",
       "    </tr>\n",
       "  </thead>\n",
       "  <tbody>\n",
       "    <tr>\n",
       "      <th>0</th>\n",
       "      <td>1757005</td>\n",
       "      <td>3</td>\n",
       "      <td>1</td>\n",
       "      <td>0</td>\n",
       "      <td>9</td>\n",
       "      <td>6</td>\n",
       "      <td>3</td>\n",
       "      <td>327</td>\n",
       "    </tr>\n",
       "    <tr>\n",
       "      <th>1</th>\n",
       "      <td>17938</td>\n",
       "      <td>0</td>\n",
       "      <td>0</td>\n",
       "      <td>0</td>\n",
       "      <td>4</td>\n",
       "      <td>22</td>\n",
       "      <td>3</td>\n",
       "      <td>327</td>\n",
       "    </tr>\n",
       "    <tr>\n",
       "      <th>2</th>\n",
       "      <td>4263520</td>\n",
       "      <td>1</td>\n",
       "      <td>0</td>\n",
       "      <td>0</td>\n",
       "      <td>19</td>\n",
       "      <td>1</td>\n",
       "      <td>5</td>\n",
       "      <td>327</td>\n",
       "    </tr>\n",
       "    <tr>\n",
       "      <th>3</th>\n",
       "      <td>1411600</td>\n",
       "      <td>3</td>\n",
       "      <td>0</td>\n",
       "      <td>0</td>\n",
       "      <td>5</td>\n",
       "      <td>138</td>\n",
       "      <td>1</td>\n",
       "      <td>327</td>\n",
       "    </tr>\n",
       "    <tr>\n",
       "      <th>4</th>\n",
       "      <td>3992242</td>\n",
       "      <td>2</td>\n",
       "      <td>0</td>\n",
       "      <td>0</td>\n",
       "      <td>0</td>\n",
       "      <td>142</td>\n",
       "      <td>0</td>\n",
       "      <td>327</td>\n",
       "    </tr>\n",
       "  </tbody>\n",
       "</table>\n",
       "</div>"
      ],
      "text/plain": [
       "   user_id  age  gender  country  province  city  city_level  device_name\n",
       "0  1757005    3       1        0         9     6           3          327\n",
       "1    17938    0       0        0         4    22           3          327\n",
       "2  4263520    1       0        0        19     1           5          327\n",
       "3  1411600    3       0        0         5   138           1          327\n",
       "4  3992242    2       0        0         0   142           0          327"
      ]
     },
     "execution_count": 2,
     "metadata": {},
     "output_type": "execute_result"
    }
   ],
   "source": [
    "user_features.head()"
   ]
  },
  {
   "cell_type": "code",
   "execution_count": 3,
   "metadata": {
    "execution": {
     "iopub.execute_input": "2021-07-20T13:23:06.060851Z",
     "iopub.status.busy": "2021-07-20T13:23:06.060334Z",
     "iopub.status.idle": "2021-07-20T13:23:06.074823Z",
     "shell.execute_reply": "2021-07-20T13:23:06.074285Z",
     "shell.execute_reply.started": "2021-07-20T13:23:06.060805Z"
    },
    "tags": []
   },
   "outputs": [
    {
     "data": {
      "text/html": [
       "<div>\n",
       "<style scoped>\n",
       "    .dataframe tbody tr th:only-of-type {\n",
       "        vertical-align: middle;\n",
       "    }\n",
       "\n",
       "    .dataframe tbody tr th {\n",
       "        vertical-align: top;\n",
       "    }\n",
       "\n",
       "    .dataframe thead th {\n",
       "        text-align: right;\n",
       "    }\n",
       "</style>\n",
       "<table border=\"1\" class=\"dataframe\">\n",
       "  <thead>\n",
       "    <tr style=\"text-align: right;\">\n",
       "      <th></th>\n",
       "      <th>video_id</th>\n",
       "      <th>video_name</th>\n",
       "      <th>video_tags</th>\n",
       "      <th>video_description</th>\n",
       "      <th>video_release_date</th>\n",
       "      <th>video_director_list</th>\n",
       "      <th>video_actor_list</th>\n",
       "      <th>video_score</th>\n",
       "      <th>video_second_class</th>\n",
       "      <th>video_duration</th>\n",
       "    </tr>\n",
       "  </thead>\n",
       "  <tbody>\n",
       "    <tr>\n",
       "      <th>0</th>\n",
       "      <td>3460</td>\n",
       "      <td>脱皮爸爸</td>\n",
       "      <td>院线电影,家庭关系,命运</td>\n",
       "      <td>中年失意的儿子田力行（古天乐饰）在生活上遇到了重重危机：母亲病逝,工作不顺,妻子要求离婚。正...</td>\n",
       "      <td>2017-04-27</td>\n",
       "      <td>司徒慧焯</td>\n",
       "      <td>吴镇宇,古天乐,春夏,蔡洁</td>\n",
       "      <td>7.398438</td>\n",
       "      <td>剧情,喜剧,奇幻</td>\n",
       "      <td>5913</td>\n",
       "    </tr>\n",
       "    <tr>\n",
       "      <th>1</th>\n",
       "      <td>14553</td>\n",
       "      <td>喜气洋洋小金莲</td>\n",
       "      <td>古装喜剧,剧情片,喜剧片,内地电影,欢乐喜剧,爱情纠纷</td>\n",
       "      <td>故事始于西门庆为西门药业的“伟哥”产品寻找代言人，西门庆初见潘金莲，一时惊为天人，为成功抱得...</td>\n",
       "      <td>2015-12-30</td>\n",
       "      <td>杨珊珊,李亚玲</td>\n",
       "      <td>陈南飞,程隆妮,王闯,贾海涛,闫薇儿</td>\n",
       "      <td>5.601562</td>\n",
       "      <td>喜剧</td>\n",
       "      <td>6217</td>\n",
       "    </tr>\n",
       "    <tr>\n",
       "      <th>2</th>\n",
       "      <td>1214</td>\n",
       "      <td>风流家族</td>\n",
       "      <td>男女关系,家庭关系,命运,院线电影</td>\n",
       "      <td>香世仁（钟镇涛 饰）是家财万贯的香港富豪，在满足了一切物质上的要求后，他将生活的重心放在了儿...</td>\n",
       "      <td>2002-03-07</td>\n",
       "      <td>邱礼涛,杨漪珊</td>\n",
       "      <td>张家辉,卢巧音,钟镇涛,叶童,李蕙敏,张坚庭,袁洁莹,黄佩霞,齐芷瑶,刘以达,叶伟信,邹凯光...</td>\n",
       "      <td>6.800781</td>\n",
       "      <td>都市,喜剧,爱情,家庭</td>\n",
       "      <td>5963</td>\n",
       "    </tr>\n",
       "    <tr>\n",
       "      <th>3</th>\n",
       "      <td>30639</td>\n",
       "      <td>大提琴的故事</td>\n",
       "      <td>短片,动画片</td>\n",
       "      <td>低音大提琴演奏家史密斯科夫正要去参加某贵族的沙龙，途中他被河边的美丽景色所吸引，驻足观看。兴...</td>\n",
       "      <td>1949-01-01</td>\n",
       "      <td>伊里·特恩卡,契诃夫</td>\n",
       "      <td>NaN</td>\n",
       "      <td>NaN</td>\n",
       "      <td>动画,爱情</td>\n",
       "      <td>17371</td>\n",
       "    </tr>\n",
       "    <tr>\n",
       "      <th>4</th>\n",
       "      <td>38522</td>\n",
       "      <td>歌舞大王齐格飞</td>\n",
       "      <td>喜剧片,人物传记,浪漫爱情</td>\n",
       "      <td>罗伯特．Z．伦纳德导演的这部影片以百老汇最大的歌舞团——齐格菲歌舞团的创办人佛罗伦斯．齐格菲...</td>\n",
       "      <td>1936-04-08</td>\n",
       "      <td>罗伯特·Z·伦纳德,William Anthony McGuire</td>\n",
       "      <td>威廉·鲍威尔,玛娜·洛伊,路易丝·赖纳,弗兰克·摩根,范妮·布莱斯,弗吉尼亚·布鲁斯,雷吉纳...</td>\n",
       "      <td>7.699219</td>\n",
       "      <td>剧情,歌舞,喜剧</td>\n",
       "      <td>10608</td>\n",
       "    </tr>\n",
       "  </tbody>\n",
       "</table>\n",
       "</div>"
      ],
      "text/plain": [
       "   video_id video_name                   video_tags  \\\n",
       "0      3460       脱皮爸爸                 院线电影,家庭关系,命运   \n",
       "1     14553    喜气洋洋小金莲  古装喜剧,剧情片,喜剧片,内地电影,欢乐喜剧,爱情纠纷   \n",
       "2      1214       风流家族            男女关系,家庭关系,命运,院线电影   \n",
       "3     30639     大提琴的故事                       短片,动画片   \n",
       "4     38522    歌舞大王齐格飞                喜剧片,人物传记,浪漫爱情   \n",
       "\n",
       "                                   video_description video_release_date  \\\n",
       "0  中年失意的儿子田力行（古天乐饰）在生活上遇到了重重危机：母亲病逝,工作不顺,妻子要求离婚。正...         2017-04-27   \n",
       "1  故事始于西门庆为西门药业的“伟哥”产品寻找代言人，西门庆初见潘金莲，一时惊为天人，为成功抱得...         2015-12-30   \n",
       "2  香世仁（钟镇涛 饰）是家财万贯的香港富豪，在满足了一切物质上的要求后，他将生活的重心放在了儿...         2002-03-07   \n",
       "3  低音大提琴演奏家史密斯科夫正要去参加某贵族的沙龙，途中他被河边的美丽景色所吸引，驻足观看。兴...         1949-01-01   \n",
       "4  罗伯特．Z．伦纳德导演的这部影片以百老汇最大的歌舞团——齐格菲歌舞团的创办人佛罗伦斯．齐格菲...         1936-04-08   \n",
       "\n",
       "                 video_director_list  \\\n",
       "0                               司徒慧焯   \n",
       "1                            杨珊珊,李亚玲   \n",
       "2                            邱礼涛,杨漪珊   \n",
       "3                         伊里·特恩卡,契诃夫   \n",
       "4  罗伯特·Z·伦纳德,William Anthony McGuire   \n",
       "\n",
       "                                    video_actor_list  video_score  \\\n",
       "0                                      吴镇宇,古天乐,春夏,蔡洁     7.398438   \n",
       "1                                 陈南飞,程隆妮,王闯,贾海涛,闫薇儿     5.601562   \n",
       "2  张家辉,卢巧音,钟镇涛,叶童,李蕙敏,张坚庭,袁洁莹,黄佩霞,齐芷瑶,刘以达,叶伟信,邹凯光...     6.800781   \n",
       "3                                                NaN          NaN   \n",
       "4  威廉·鲍威尔,玛娜·洛伊,路易丝·赖纳,弗兰克·摩根,范妮·布莱斯,弗吉尼亚·布鲁斯,雷吉纳...     7.699219   \n",
       "\n",
       "  video_second_class  video_duration  \n",
       "0           剧情,喜剧,奇幻            5913  \n",
       "1                 喜剧            6217  \n",
       "2        都市,喜剧,爱情,家庭            5963  \n",
       "3              动画,爱情           17371  \n",
       "4           剧情,歌舞,喜剧           10608  "
      ]
     },
     "execution_count": 3,
     "metadata": {},
     "output_type": "execute_result"
    }
   ],
   "source": [
    "video_features.head()"
   ]
  },
  {
   "cell_type": "code",
   "execution_count": 4,
   "metadata": {
    "execution": {
     "iopub.execute_input": "2021-07-20T13:23:06.485925Z",
     "iopub.status.busy": "2021-07-20T13:23:06.485408Z",
     "iopub.status.idle": "2021-07-20T13:23:06.496079Z",
     "shell.execute_reply": "2021-07-20T13:23:06.495497Z",
     "shell.execute_reply.started": "2021-07-20T13:23:06.485879Z"
    },
    "tags": []
   },
   "outputs": [
    {
     "data": {
      "text/html": [
       "<div>\n",
       "<style scoped>\n",
       "    .dataframe tbody tr th:only-of-type {\n",
       "        vertical-align: middle;\n",
       "    }\n",
       "\n",
       "    .dataframe tbody tr th {\n",
       "        vertical-align: top;\n",
       "    }\n",
       "\n",
       "    .dataframe thead th {\n",
       "        text-align: right;\n",
       "    }\n",
       "</style>\n",
       "<table border=\"1\" class=\"dataframe\">\n",
       "  <thead>\n",
       "    <tr style=\"text-align: right;\">\n",
       "      <th></th>\n",
       "      <th>user_id</th>\n",
       "      <th>video_id</th>\n",
       "      <th>is_watch</th>\n",
       "      <th>is_share</th>\n",
       "      <th>is_collect</th>\n",
       "      <th>is_comment</th>\n",
       "      <th>watch_start_time</th>\n",
       "      <th>watch_label</th>\n",
       "      <th>pt_d</th>\n",
       "    </tr>\n",
       "  </thead>\n",
       "  <tbody>\n",
       "    <tr>\n",
       "      <th>3275583</th>\n",
       "      <td>2</td>\n",
       "      <td>22485</td>\n",
       "      <td>1</td>\n",
       "      <td>0</td>\n",
       "      <td>0</td>\n",
       "      <td>0</td>\n",
       "      <td>2021-04-19</td>\n",
       "      <td>3</td>\n",
       "      <td>20210419</td>\n",
       "    </tr>\n",
       "    <tr>\n",
       "      <th>3275584</th>\n",
       "      <td>2</td>\n",
       "      <td>25469</td>\n",
       "      <td>1</td>\n",
       "      <td>0</td>\n",
       "      <td>0</td>\n",
       "      <td>0</td>\n",
       "      <td>2021-04-18</td>\n",
       "      <td>3</td>\n",
       "      <td>20210419</td>\n",
       "    </tr>\n",
       "    <tr>\n",
       "      <th>5391986</th>\n",
       "      <td>2</td>\n",
       "      <td>28411</td>\n",
       "      <td>0</td>\n",
       "      <td>0</td>\n",
       "      <td>0</td>\n",
       "      <td>0</td>\n",
       "      <td>NaN</td>\n",
       "      <td>0</td>\n",
       "      <td>20210419</td>\n",
       "    </tr>\n",
       "    <tr>\n",
       "      <th>5391987</th>\n",
       "      <td>2</td>\n",
       "      <td>49484</td>\n",
       "      <td>0</td>\n",
       "      <td>0</td>\n",
       "      <td>0</td>\n",
       "      <td>0</td>\n",
       "      <td>NaN</td>\n",
       "      <td>0</td>\n",
       "      <td>20210419</td>\n",
       "    </tr>\n",
       "    <tr>\n",
       "      <th>5391988</th>\n",
       "      <td>2</td>\n",
       "      <td>7069</td>\n",
       "      <td>0</td>\n",
       "      <td>0</td>\n",
       "      <td>0</td>\n",
       "      <td>0</td>\n",
       "      <td>NaN</td>\n",
       "      <td>0</td>\n",
       "      <td>20210419</td>\n",
       "    </tr>\n",
       "  </tbody>\n",
       "</table>\n",
       "</div>"
      ],
      "text/plain": [
       "         user_id  video_id  is_watch  is_share  is_collect  is_comment  \\\n",
       "3275583        2     22485         1         0           0           0   \n",
       "3275584        2     25469         1         0           0           0   \n",
       "5391986        2     28411         0         0           0           0   \n",
       "5391987        2     49484         0         0           0           0   \n",
       "5391988        2      7069         0         0           0           0   \n",
       "\n",
       "        watch_start_time  watch_label      pt_d  \n",
       "3275583       2021-04-19            3  20210419  \n",
       "3275584       2021-04-18            3  20210419  \n",
       "5391986              NaN            0  20210419  \n",
       "5391987              NaN            0  20210419  \n",
       "5391988              NaN            0  20210419  "
      ]
     },
     "execution_count": 4,
     "metadata": {},
     "output_type": "execute_result"
    }
   ],
   "source": [
    "history_behavior.head()"
   ]
  },
  {
   "cell_type": "markdown",
   "metadata": {},
   "source": [
    "# 数据分析\n",
    "\n",
    "## 用户特征"
   ]
  },
  {
   "cell_type": "code",
   "execution_count": 5,
   "metadata": {
    "execution": {
     "iopub.execute_input": "2021-07-20T13:23:07.496865Z",
     "iopub.status.busy": "2021-07-20T13:23:07.496331Z",
     "iopub.status.idle": "2021-07-20T13:23:07.505896Z",
     "shell.execute_reply": "2021-07-20T13:23:07.504753Z",
     "shell.execute_reply.started": "2021-07-20T13:23:07.496819Z"
    },
    "tags": []
   },
   "outputs": [
    {
     "data": {
      "text/plain": [
       "user_id        int32\n",
       "age             int8\n",
       "gender          int8\n",
       "country         int8\n",
       "province        int8\n",
       "city           int16\n",
       "city_level      int8\n",
       "device_name    int16\n",
       "dtype: object"
      ]
     },
     "execution_count": 5,
     "metadata": {},
     "output_type": "execute_result"
    }
   ],
   "source": [
    "user_features.dtypes"
   ]
  },
  {
   "cell_type": "code",
   "execution_count": 6,
   "metadata": {
    "execution": {
     "iopub.execute_input": "2021-07-20T13:23:07.876951Z",
     "iopub.status.busy": "2021-07-20T13:23:07.876453Z",
     "iopub.status.idle": "2021-07-20T13:23:07.885279Z",
     "shell.execute_reply": "2021-07-20T13:23:07.884739Z",
     "shell.execute_reply.started": "2021-07-20T13:23:07.876908Z"
    },
    "tags": []
   },
   "outputs": [
    {
     "data": {
      "text/html": [
       "<div>\n",
       "<style scoped>\n",
       "    .dataframe tbody tr th:only-of-type {\n",
       "        vertical-align: middle;\n",
       "    }\n",
       "\n",
       "    .dataframe tbody tr th {\n",
       "        vertical-align: top;\n",
       "    }\n",
       "\n",
       "    .dataframe thead th {\n",
       "        text-align: right;\n",
       "    }\n",
       "</style>\n",
       "<table border=\"1\" class=\"dataframe\">\n",
       "  <thead>\n",
       "    <tr style=\"text-align: right;\">\n",
       "      <th></th>\n",
       "      <th>user_id</th>\n",
       "      <th>age</th>\n",
       "      <th>gender</th>\n",
       "      <th>country</th>\n",
       "      <th>province</th>\n",
       "      <th>city</th>\n",
       "      <th>city_level</th>\n",
       "      <th>device_name</th>\n",
       "    </tr>\n",
       "  </thead>\n",
       "  <tbody>\n",
       "    <tr>\n",
       "      <th>0</th>\n",
       "      <td>1757005</td>\n",
       "      <td>3</td>\n",
       "      <td>1</td>\n",
       "      <td>0</td>\n",
       "      <td>9</td>\n",
       "      <td>6</td>\n",
       "      <td>3</td>\n",
       "      <td>327</td>\n",
       "    </tr>\n",
       "    <tr>\n",
       "      <th>1</th>\n",
       "      <td>17938</td>\n",
       "      <td>0</td>\n",
       "      <td>0</td>\n",
       "      <td>0</td>\n",
       "      <td>4</td>\n",
       "      <td>22</td>\n",
       "      <td>3</td>\n",
       "      <td>327</td>\n",
       "    </tr>\n",
       "    <tr>\n",
       "      <th>2</th>\n",
       "      <td>4263520</td>\n",
       "      <td>1</td>\n",
       "      <td>0</td>\n",
       "      <td>0</td>\n",
       "      <td>19</td>\n",
       "      <td>1</td>\n",
       "      <td>5</td>\n",
       "      <td>327</td>\n",
       "    </tr>\n",
       "    <tr>\n",
       "      <th>3</th>\n",
       "      <td>1411600</td>\n",
       "      <td>3</td>\n",
       "      <td>0</td>\n",
       "      <td>0</td>\n",
       "      <td>5</td>\n",
       "      <td>138</td>\n",
       "      <td>1</td>\n",
       "      <td>327</td>\n",
       "    </tr>\n",
       "    <tr>\n",
       "      <th>4</th>\n",
       "      <td>3992242</td>\n",
       "      <td>2</td>\n",
       "      <td>0</td>\n",
       "      <td>0</td>\n",
       "      <td>0</td>\n",
       "      <td>142</td>\n",
       "      <td>0</td>\n",
       "      <td>327</td>\n",
       "    </tr>\n",
       "  </tbody>\n",
       "</table>\n",
       "</div>"
      ],
      "text/plain": [
       "   user_id  age  gender  country  province  city  city_level  device_name\n",
       "0  1757005    3       1        0         9     6           3          327\n",
       "1    17938    0       0        0         4    22           3          327\n",
       "2  4263520    1       0        0        19     1           5          327\n",
       "3  1411600    3       0        0         5   138           1          327\n",
       "4  3992242    2       0        0         0   142           0          327"
      ]
     },
     "execution_count": 6,
     "metadata": {},
     "output_type": "execute_result"
    }
   ],
   "source": [
    "user_features.head()"
   ]
  },
  {
   "cell_type": "code",
   "execution_count": 7,
   "metadata": {
    "execution": {
     "iopub.execute_input": "2021-07-20T13:23:08.257439Z",
     "iopub.status.busy": "2021-07-20T13:23:08.256930Z",
     "iopub.status.idle": "2021-07-20T13:23:08.793496Z",
     "shell.execute_reply": "2021-07-20T13:23:08.792973Z",
     "shell.execute_reply.started": "2021-07-20T13:23:08.257394Z"
    },
    "tags": []
   },
   "outputs": [
    {
     "name": "stdout",
     "output_type": "stream",
     "text": [
      "(5910800, 8) 5910800\n",
      "(5910800, 8) 8\n",
      "(5910800, 8) 4\n",
      "(5910800, 8) 3\n",
      "(5910800, 8) 33\n",
      "(5910800, 8) 339\n",
      "(5910800, 8) 8\n",
      "(5910800, 8) 1826\n"
     ]
    }
   ],
   "source": [
    "for col in user_features.columns: \n",
    "    print(user_features.shape, user_features[col].nunique())"
   ]
  },
  {
   "cell_type": "code",
   "execution_count": 8,
   "metadata": {
    "execution": {
     "iopub.execute_input": "2021-07-20T13:23:08.794635Z",
     "iopub.status.busy": "2021-07-20T13:23:08.794458Z",
     "iopub.status.idle": "2021-07-20T13:23:09.077807Z",
     "shell.execute_reply": "2021-07-20T13:23:09.077357Z",
     "shell.execute_reply.started": "2021-07-20T13:23:08.794619Z"
    },
    "tags": []
   },
   "outputs": [
    {
     "data": {
      "text/plain": [
       "<AxesSubplot:>"
      ]
     },
     "execution_count": 8,
     "metadata": {},
     "output_type": "execute_result"
    },
    {
     "data": {
      "image/png": "[encoded data removed]",
      "text/plain": [
       "<Figure size 432x288 with 1 Axes>"
      ]
     },
     "metadata": {
      "needs_background": "light"
     },
     "output_type": "display_data"
    }
   ],
   "source": [
    "user_features['age'].value_counts().plot(kind='bar')"
   ]
  },
  {
   "cell_type": "code",
   "execution_count": 9,
   "metadata": {
    "execution": {
     "iopub.execute_input": "2021-07-20T13:23:09.217654Z",
     "iopub.status.busy": "2021-07-20T13:23:09.217140Z",
     "iopub.status.idle": "2021-07-20T13:23:09.317105Z",
     "shell.execute_reply": "2021-07-20T13:23:09.316592Z",
     "shell.execute_reply.started": "2021-07-20T13:23:09.217608Z"
    },
    "tags": []
   },
   "outputs": [
    {
     "data": {
      "text/plain": [
       "<AxesSubplot:>"
      ]
     },
     "execution_count": 9,
     "metadata": {},
     "output_type": "execute_result"
    },
    {
     "data": {
      "image/png": "[encoded data removed]",
      "text/plain": [
       "<Figure size 432x288 with 1 Axes>"
      ]
     },
     "metadata": {
      "needs_background": "light"
     },
     "output_type": "display_data"
    }
   ],
   "source": [
    "user_features['gender'].value_counts().plot(kind='bar')"
   ]
  },
  {
   "cell_type": "code",
   "execution_count": 10,
   "metadata": {
    "execution": {
     "iopub.execute_input": "2021-07-20T13:23:09.656308Z",
     "iopub.status.busy": "2021-07-20T13:23:09.655782Z",
     "iopub.status.idle": "2021-07-20T13:23:09.754754Z",
     "shell.execute_reply": "2021-07-20T13:23:09.754307Z",
     "shell.execute_reply.started": "2021-07-20T13:23:09.656261Z"
    },
    "tags": []
   },
   "outputs": [
    {
     "data": {
      "text/plain": [
       "<AxesSubplot:>"
      ]
     },
     "execution_count": 10,
     "metadata": {},
     "output_type": "execute_result"
    },
    {
     "data": {
      "image/png": "[encoded data removed]",
      "text/plain": [
       "<Figure size 432x288 with 1 Axes>"
      ]
     },
     "metadata": {
      "needs_background": "light"
     },
     "output_type": "display_data"
    }
   ],
   "source": [
    "user_features['country'].value_counts().plot(kind='bar')"
   ]
  },
  {
   "cell_type": "code",
   "execution_count": 11,
   "metadata": {
    "execution": {
     "iopub.execute_input": "2021-07-20T13:23:09.896911Z",
     "iopub.status.busy": "2021-07-20T13:23:09.896666Z",
     "iopub.status.idle": "2021-07-20T13:23:10.106002Z",
     "shell.execute_reply": "2021-07-20T13:23:10.105517Z",
     "shell.execute_reply.started": "2021-07-20T13:23:09.896890Z"
    },
    "tags": []
   },
   "outputs": [
    {
     "data": {
      "text/plain": [
       "<AxesSubplot:>"
      ]
     },
     "execution_count": 11,
     "metadata": {},
     "output_type": "execute_result"
    },
    {
     "data": {
      "image/png": "[encoded data removed]",
      "text/plain": [
       "<Figure size 432x288 with 1 Axes>"
      ]
     },
     "metadata": {
      "needs_background": "light"
     },
     "output_type": "display_data"
    }
   ],
   "source": [
    "user_features['province'].value_counts().plot(kind='bar')"
   ]
  },
  {
   "cell_type": "code",
   "execution_count": 12,
   "metadata": {
    "execution": {
     "iopub.execute_input": "2021-07-20T13:23:10.225283Z",
     "iopub.status.busy": "2021-07-20T13:23:10.224765Z",
     "iopub.status.idle": "2021-07-20T13:23:13.044562Z",
     "shell.execute_reply": "2021-07-20T13:23:13.043957Z",
     "shell.execute_reply.started": "2021-07-20T13:23:10.225238Z"
    },
    "tags": []
   },
   "outputs": [
    {
     "data": {
      "text/plain": [
       "<AxesSubplot:>"
      ]
     },
     "execution_count": 12,
     "metadata": {},
     "output_type": "execute_result"
    },
    {
     "data": {
      "image/png": "[encoded data removed]",
      "text/plain": [
       "<Figure size 432x288 with 1 Axes>"
      ]
     },
     "metadata": {
      "needs_background": "light"
     },
     "output_type": "display_data"
    }
   ],
   "source": [
    "user_features['city'].value_counts().plot(kind='bar')"
   ]
  },
  {
   "cell_type": "code",
   "execution_count": 13,
   "metadata": {
    "execution": {
     "iopub.execute_input": "2021-07-20T13:23:13.045580Z",
     "iopub.status.busy": "2021-07-20T13:23:13.045406Z",
     "iopub.status.idle": "2021-07-20T13:23:13.160810Z",
     "shell.execute_reply": "2021-07-20T13:23:13.160333Z",
     "shell.execute_reply.started": "2021-07-20T13:23:13.045565Z"
    },
    "tags": []
   },
   "outputs": [
    {
     "data": {
      "text/plain": [
       "<AxesSubplot:>"
      ]
     },
     "execution_count": 13,
     "metadata": {},
     "output_type": "execute_result"
    },
    {
     "data": {
      "image/png": "[encoded data removed]",
      "text/plain": [
       "<Figure size 432x288 with 1 Axes>"
      ]
     },
     "metadata": {
      "needs_background": "light"
     },
     "output_type": "display_data"
    }
   ],
   "source": [
    "user_features['city_level'].value_counts().plot(kind='bar')"
   ]
  },
  {
   "cell_type": "code",
   "execution_count": 14,
   "metadata": {
    "execution": {
     "iopub.execute_input": "2021-07-20T13:23:13.161933Z",
     "iopub.status.busy": "2021-07-20T13:23:13.161757Z",
     "iopub.status.idle": "2021-07-20T13:23:29.105894Z",
     "shell.execute_reply": "2021-07-20T13:23:29.105382Z",
     "shell.execute_reply.started": "2021-07-20T13:23:13.161917Z"
    },
    "tags": []
   },
   "outputs": [
    {
     "data": {
      "text/plain": [
       "<AxesSubplot:>"
      ]
     },
     "execution_count": 14,
     "metadata": {},
     "output_type": "execute_result"
    },
    {
     "data": {
      "image/png": "[encoded data removed]",
      "text/plain": [
       "<Figure size 432x288 with 1 Axes>"
      ]
     },
     "metadata": {
      "needs_background": "light"
     },
     "output_type": "display_data"
    }
   ],
   "source": [
    "user_features['device_name'].value_counts().plot(kind='bar')"
   ]
  },
  {
   "cell_type": "markdown",
   "metadata": {},
   "source": [
    "## 视频特征"
   ]
  },
  {
   "cell_type": "code",
   "execution_count": 16,
   "metadata": {
    "execution": {
     "iopub.execute_input": "2021-07-20T13:24:01.649356Z",
     "iopub.status.busy": "2021-07-20T13:24:01.648787Z",
     "iopub.status.idle": "2021-07-20T13:24:01.662032Z",
     "shell.execute_reply": "2021-07-20T13:24:01.661440Z",
     "shell.execute_reply.started": "2021-07-20T13:24:01.649310Z"
    },
    "tags": []
   },
   "outputs": [
    {
     "data": {
      "text/html": [
       "<div>\n",
       "<style scoped>\n",
       "    .dataframe tbody tr th:only-of-type {\n",
       "        vertical-align: middle;\n",
       "    }\n",
       "\n",
       "    .dataframe tbody tr th {\n",
       "        vertical-align: top;\n",
       "    }\n",
       "\n",
       "    .dataframe thead th {\n",
       "        text-align: right;\n",
       "    }\n",
       "</style>\n",
       "<table border=\"1\" class=\"dataframe\">\n",
       "  <thead>\n",
       "    <tr style=\"text-align: right;\">\n",
       "      <th></th>\n",
       "      <th>video_id</th>\n",
       "      <th>video_name</th>\n",
       "      <th>video_tags</th>\n",
       "      <th>video_description</th>\n",
       "      <th>video_release_date</th>\n",
       "      <th>video_director_list</th>\n",
       "      <th>video_actor_list</th>\n",
       "      <th>video_score</th>\n",
       "      <th>video_second_class</th>\n",
       "      <th>video_duration</th>\n",
       "    </tr>\n",
       "  </thead>\n",
       "  <tbody>\n",
       "    <tr>\n",
       "      <th>0</th>\n",
       "      <td>3460</td>\n",
       "      <td>脱皮爸爸</td>\n",
       "      <td>院线电影,家庭关系,命运</td>\n",
       "      <td>中年失意的儿子田力行（古天乐饰）在生活上遇到了重重危机：母亲病逝,工作不顺,妻子要求离婚。正...</td>\n",
       "      <td>2017-04-27</td>\n",
       "      <td>司徒慧焯</td>\n",
       "      <td>吴镇宇,古天乐,春夏,蔡洁</td>\n",
       "      <td>7.398438</td>\n",
       "      <td>剧情,喜剧,奇幻</td>\n",
       "      <td>5913</td>\n",
       "    </tr>\n",
       "    <tr>\n",
       "      <th>1</th>\n",
       "      <td>14553</td>\n",
       "      <td>喜气洋洋小金莲</td>\n",
       "      <td>古装喜剧,剧情片,喜剧片,内地电影,欢乐喜剧,爱情纠纷</td>\n",
       "      <td>故事始于西门庆为西门药业的“伟哥”产品寻找代言人，西门庆初见潘金莲，一时惊为天人，为成功抱得...</td>\n",
       "      <td>2015-12-30</td>\n",
       "      <td>杨珊珊,李亚玲</td>\n",
       "      <td>陈南飞,程隆妮,王闯,贾海涛,闫薇儿</td>\n",
       "      <td>5.601562</td>\n",
       "      <td>喜剧</td>\n",
       "      <td>6217</td>\n",
       "    </tr>\n",
       "    <tr>\n",
       "      <th>2</th>\n",
       "      <td>1214</td>\n",
       "      <td>风流家族</td>\n",
       "      <td>男女关系,家庭关系,命运,院线电影</td>\n",
       "      <td>香世仁（钟镇涛 饰）是家财万贯的香港富豪，在满足了一切物质上的要求后，他将生活的重心放在了儿...</td>\n",
       "      <td>2002-03-07</td>\n",
       "      <td>邱礼涛,杨漪珊</td>\n",
       "      <td>张家辉,卢巧音,钟镇涛,叶童,李蕙敏,张坚庭,袁洁莹,黄佩霞,齐芷瑶,刘以达,叶伟信,邹凯光...</td>\n",
       "      <td>6.800781</td>\n",
       "      <td>都市,喜剧,爱情,家庭</td>\n",
       "      <td>5963</td>\n",
       "    </tr>\n",
       "    <tr>\n",
       "      <th>3</th>\n",
       "      <td>30639</td>\n",
       "      <td>大提琴的故事</td>\n",
       "      <td>短片,动画片</td>\n",
       "      <td>低音大提琴演奏家史密斯科夫正要去参加某贵族的沙龙，途中他被河边的美丽景色所吸引，驻足观看。兴...</td>\n",
       "      <td>1949-01-01</td>\n",
       "      <td>伊里·特恩卡,契诃夫</td>\n",
       "      <td>NaN</td>\n",
       "      <td>NaN</td>\n",
       "      <td>动画,爱情</td>\n",
       "      <td>17371</td>\n",
       "    </tr>\n",
       "    <tr>\n",
       "      <th>4</th>\n",
       "      <td>38522</td>\n",
       "      <td>歌舞大王齐格飞</td>\n",
       "      <td>喜剧片,人物传记,浪漫爱情</td>\n",
       "      <td>罗伯特．Z．伦纳德导演的这部影片以百老汇最大的歌舞团——齐格菲歌舞团的创办人佛罗伦斯．齐格菲...</td>\n",
       "      <td>1936-04-08</td>\n",
       "      <td>罗伯特·Z·伦纳德,William Anthony McGuire</td>\n",
       "      <td>威廉·鲍威尔,玛娜·洛伊,路易丝·赖纳,弗兰克·摩根,范妮·布莱斯,弗吉尼亚·布鲁斯,雷吉纳...</td>\n",
       "      <td>7.699219</td>\n",
       "      <td>剧情,歌舞,喜剧</td>\n",
       "      <td>10608</td>\n",
       "    </tr>\n",
       "  </tbody>\n",
       "</table>\n",
       "</div>"
      ],
      "text/plain": [
       "   video_id video_name                   video_tags  \\\n",
       "0      3460       脱皮爸爸                 院线电影,家庭关系,命运   \n",
       "1     14553    喜气洋洋小金莲  古装喜剧,剧情片,喜剧片,内地电影,欢乐喜剧,爱情纠纷   \n",
       "2      1214       风流家族            男女关系,家庭关系,命运,院线电影   \n",
       "3     30639     大提琴的故事                       短片,动画片   \n",
       "4     38522    歌舞大王齐格飞                喜剧片,人物传记,浪漫爱情   \n",
       "\n",
       "                                   video_description video_release_date  \\\n",
       "0  中年失意的儿子田力行（古天乐饰）在生活上遇到了重重危机：母亲病逝,工作不顺,妻子要求离婚。正...         2017-04-27   \n",
       "1  故事始于西门庆为西门药业的“伟哥”产品寻找代言人，西门庆初见潘金莲，一时惊为天人，为成功抱得...         2015-12-30   \n",
       "2  香世仁（钟镇涛 饰）是家财万贯的香港富豪，在满足了一切物质上的要求后，他将生活的重心放在了儿...         2002-03-07   \n",
       "3  低音大提琴演奏家史密斯科夫正要去参加某贵族的沙龙，途中他被河边的美丽景色所吸引，驻足观看。兴...         1949-01-01   \n",
       "4  罗伯特．Z．伦纳德导演的这部影片以百老汇最大的歌舞团——齐格菲歌舞团的创办人佛罗伦斯．齐格菲...         1936-04-08   \n",
       "\n",
       "                 video_director_list  \\\n",
       "0                               司徒慧焯   \n",
       "1                            杨珊珊,李亚玲   \n",
       "2                            邱礼涛,杨漪珊   \n",
       "3                         伊里·特恩卡,契诃夫   \n",
       "4  罗伯特·Z·伦纳德,William Anthony McGuire   \n",
       "\n",
       "                                    video_actor_list  video_score  \\\n",
       "0                                      吴镇宇,古天乐,春夏,蔡洁     7.398438   \n",
       "1                                 陈南飞,程隆妮,王闯,贾海涛,闫薇儿     5.601562   \n",
       "2  张家辉,卢巧音,钟镇涛,叶童,李蕙敏,张坚庭,袁洁莹,黄佩霞,齐芷瑶,刘以达,叶伟信,邹凯光...     6.800781   \n",
       "3                                                NaN          NaN   \n",
       "4  威廉·鲍威尔,玛娜·洛伊,路易丝·赖纳,弗兰克·摩根,范妮·布莱斯,弗吉尼亚·布鲁斯,雷吉纳...     7.699219   \n",
       "\n",
       "  video_second_class  video_duration  \n",
       "0           剧情,喜剧,奇幻            5913  \n",
       "1                 喜剧            6217  \n",
       "2        都市,喜剧,爱情,家庭            5963  \n",
       "3              动画,爱情           17371  \n",
       "4           剧情,歌舞,喜剧           10608  "
      ]
     },
     "execution_count": 16,
     "metadata": {},
     "output_type": "execute_result"
    }
   ],
   "source": [
    "video_features.head()"
   ]
  },
  {
   "cell_type": "markdown",
   "metadata": {},
   "source": [
    "## 用户行为"
   ]
  },
  {
   "cell_type": "code",
   "execution_count": 17,
   "metadata": {
    "execution": {
     "iopub.execute_input": "2021-07-20T13:24:03.875082Z",
     "iopub.status.busy": "2021-07-20T13:24:03.874557Z",
     "iopub.status.idle": "2021-07-20T13:24:10.120488Z",
     "shell.execute_reply": "2021-07-20T13:24:10.119742Z",
     "shell.execute_reply.started": "2021-07-20T13:24:03.875037Z"
    },
    "tags": []
   },
   "outputs": [
    {
     "name": "stdout",
     "output_type": "stream",
     "text": [
      "(80276856, 9) 3953209\n",
      "(80276856, 9) 34218\n",
      "(80276856, 9) 2\n",
      "(80276856, 9) 2\n",
      "(80276856, 9) 2\n",
      "(80276856, 9) 2\n",
      "(80276856, 9) 91\n",
      "(80276856, 9) 10\n",
      "(80276856, 9) 14\n"
     ]
    }
   ],
   "source": [
    "for col in history_behavior.columns: \n",
    "    print(history_behavior.shape, history_behavior[col].nunique())"
   ]
  },
  {
   "cell_type": "code",
   "execution_count": 18,
   "metadata": {
    "execution": {
     "iopub.execute_input": "2021-07-20T13:24:41.553858Z",
     "iopub.status.busy": "2021-07-20T13:24:41.553309Z",
     "iopub.status.idle": "2021-07-20T13:24:48.063561Z",
     "shell.execute_reply": "2021-07-20T13:24:48.063078Z",
     "shell.execute_reply.started": "2021-07-20T13:24:41.553826Z"
    },
    "tags": []
   },
   "outputs": [
    {
     "data": {
      "text/plain": [
       "422143"
      ]
     },
     "execution_count": 18,
     "metadata": {},
     "output_type": "execute_result"
    }
   ],
   "source": [
    "len(set(test_data['user_id']) & set(history_behavior['user_id']))"
   ]
  },
  {
   "cell_type": "code",
   "execution_count": 20,
   "metadata": {
    "execution": {
     "iopub.execute_input": "2021-07-20T13:25:10.205084Z",
     "iopub.status.busy": "2021-07-20T13:25:10.204512Z",
     "iopub.status.idle": "2021-07-20T13:25:10.268416Z",
     "shell.execute_reply": "2021-07-20T13:25:10.267965Z",
     "shell.execute_reply.started": "2021-07-20T13:25:10.205037Z"
    },
    "tags": []
   },
   "outputs": [
    {
     "data": {
      "text/plain": [
       "492174"
      ]
     },
     "execution_count": 20,
     "metadata": {},
     "output_type": "execute_result"
    }
   ],
   "source": [
    "test_data['user_id'].nunique()"
   ]
  },
  {
   "cell_type": "code",
   "execution_count": 21,
   "metadata": {
    "execution": {
     "iopub.execute_input": "2021-07-20T13:25:30.871810Z",
     "iopub.status.busy": "2021-07-20T13:25:30.871236Z",
     "iopub.status.idle": "2021-07-20T13:25:33.277446Z",
     "shell.execute_reply": "2021-07-20T13:25:33.276489Z",
     "shell.execute_reply.started": "2021-07-20T13:25:30.871763Z"
    },
    "tags": []
   },
   "outputs": [],
   "source": [
    "history_behavior = history_behavior[history_behavior['user_id'].isin(test_data['user_id'].unique())]\n",
    "val_behavior = history_behavior[history_behavior['pt_d'] == 20210502]\n",
    "train_behavior = history_behavior[history_behavior['pt_d'] != 20210502]\n",
    "\n",
    "val_behavior = val_behavior.rename(columns={\"watch_label\": \"val_watch\", \"is_share\": \"val_share\"})"
   ]
  },
  {
   "cell_type": "code",
   "execution_count": 22,
   "metadata": {
    "execution": {
     "iopub.execute_input": "2021-07-20T13:25:42.148035Z",
     "iopub.status.busy": "2021-07-20T13:25:42.147464Z",
     "iopub.status.idle": "2021-07-20T13:25:49.704282Z",
     "shell.execute_reply": "2021-07-20T13:25:49.703582Z",
     "shell.execute_reply.started": "2021-07-20T13:25:42.147987Z"
    },
    "tags": []
   },
   "outputs": [],
   "source": [
    "train_behavior = pd.merge(train_behavior, \n",
    "                          val_behavior[['user_id', 'video_id', 'val_watch', 'val_share']], \n",
    "                          on=['user_id', 'video_id'], how='left')\n",
    "\n",
    "train_behavior['val_watch'] = train_behavior['val_watch'].fillna(0)\n",
    "train_behavior['val_share'] = train_behavior['val_share'].fillna(0)\n",
    "\n",
    "train_behavior = pd.concat([\n",
    "    train_behavior[train_behavior['val_watch'] == 0].sample(50000),\n",
    "    train_behavior[train_behavior['val_watch'] != 0]\n",
    "])"
   ]
  },
  {
   "cell_type": "code",
   "execution_count": 23,
   "metadata": {
    "execution": {
     "iopub.execute_input": "2021-07-20T13:26:04.546139Z",
     "iopub.status.busy": "2021-07-20T13:26:04.545564Z",
     "iopub.status.idle": "2021-07-20T13:26:04.552875Z",
     "shell.execute_reply": "2021-07-20T13:26:04.552287Z",
     "shell.execute_reply.started": "2021-07-20T13:26:04.546092Z"
    },
    "tags": []
   },
   "outputs": [
    {
     "data": {
      "text/plain": [
       "0.0    50000\n",
       "1.0     8051\n",
       "2.0     4787\n",
       "9.0     4694\n",
       "3.0     3821\n",
       "4.0     2983\n",
       "5.0     2642\n",
       "6.0     2249\n",
       "8.0     2197\n",
       "7.0     1915\n",
       "Name: val_watch, dtype: int64"
      ]
     },
     "execution_count": 23,
     "metadata": {},
     "output_type": "execute_result"
    }
   ],
   "source": [
    "train_behavior['val_watch'].value_counts()"
   ]
  },
  {
   "cell_type": "code",
   "execution_count": 24,
   "metadata": {
    "execution": {
     "iopub.execute_input": "2021-07-20T13:26:06.029891Z",
     "iopub.status.busy": "2021-07-20T13:26:06.029339Z",
     "iopub.status.idle": "2021-07-20T13:26:06.085468Z",
     "shell.execute_reply": "2021-07-20T13:26:06.084881Z",
     "shell.execute_reply.started": "2021-07-20T13:26:06.029846Z"
    },
    "tags": []
   },
   "outputs": [],
   "source": [
    "train_user_behavior_agg = train_behavior.groupby('user_id').agg({\n",
    "    'pt_d': ['count'],\n",
    "    'video_id': ['nunique'],\n",
    "    'is_watch': ['mean', 'max'],\n",
    "    'is_share': ['mean', 'max'],\n",
    "    'watch_label': ['nunique']\n",
    "})"
   ]
  },
  {
   "cell_type": "code",
   "execution_count": 25,
   "metadata": {
    "execution": {
     "iopub.execute_input": "2021-07-20T13:26:07.398382Z",
     "iopub.status.busy": "2021-07-20T13:26:07.397799Z",
     "iopub.status.idle": "2021-07-20T13:26:07.405755Z",
     "shell.execute_reply": "2021-07-20T13:26:07.405063Z",
     "shell.execute_reply.started": "2021-07-20T13:26:07.398335Z"
    },
    "tags": []
   },
   "outputs": [],
   "source": [
    "train_user_behavior_agg.columns = pd.Index([e[0] + \"_\" + e[1].upper() \n",
    "                for e in train_user_behavior_agg.columns.tolist()])\n",
    "train_user_behavior_agg = train_user_behavior_agg.reset_index()"
   ]
  },
  {
   "cell_type": "code",
   "execution_count": 26,
   "metadata": {
    "execution": {
     "iopub.execute_input": "2021-07-20T13:26:08.862489Z",
     "iopub.status.busy": "2021-07-20T13:26:08.861931Z",
     "iopub.status.idle": "2021-07-20T13:26:08.905140Z",
     "shell.execute_reply": "2021-07-20T13:26:08.904690Z",
     "shell.execute_reply.started": "2021-07-20T13:26:08.862442Z"
    },
    "tags": []
   },
   "outputs": [
    {
     "data": {
      "text/html": [
       "<div>\n",
       "<style scoped>\n",
       "    .dataframe tbody tr th:only-of-type {\n",
       "        vertical-align: middle;\n",
       "    }\n",
       "\n",
       "    .dataframe tbody tr th {\n",
       "        vertical-align: top;\n",
       "    }\n",
       "\n",
       "    .dataframe thead th {\n",
       "        text-align: right;\n",
       "    }\n",
       "</style>\n",
       "<table border=\"1\" class=\"dataframe\">\n",
       "  <thead>\n",
       "    <tr style=\"text-align: right;\">\n",
       "      <th></th>\n",
       "      <th>user_id</th>\n",
       "      <th>video_id</th>\n",
       "      <th>is_watch</th>\n",
       "      <th>is_share</th>\n",
       "      <th>is_collect</th>\n",
       "      <th>is_comment</th>\n",
       "      <th>watch_start_time</th>\n",
       "      <th>watch_label</th>\n",
       "      <th>pt_d</th>\n",
       "    </tr>\n",
       "  </thead>\n",
       "  <tbody>\n",
       "    <tr>\n",
       "      <th>3275584</th>\n",
       "      <td>2</td>\n",
       "      <td>25469</td>\n",
       "      <td>1</td>\n",
       "      <td>0</td>\n",
       "      <td>0</td>\n",
       "      <td>0</td>\n",
       "      <td>2021-04-18</td>\n",
       "      <td>3</td>\n",
       "      <td>20210419</td>\n",
       "    </tr>\n",
       "    <tr>\n",
       "      <th>5290331</th>\n",
       "      <td>2</td>\n",
       "      <td>25469</td>\n",
       "      <td>0</td>\n",
       "      <td>0</td>\n",
       "      <td>0</td>\n",
       "      <td>0</td>\n",
       "      <td>NaN</td>\n",
       "      <td>0</td>\n",
       "      <td>20210421</td>\n",
       "    </tr>\n",
       "    <tr>\n",
       "      <th>2993539</th>\n",
       "      <td>2</td>\n",
       "      <td>25469</td>\n",
       "      <td>0</td>\n",
       "      <td>0</td>\n",
       "      <td>0</td>\n",
       "      <td>0</td>\n",
       "      <td>NaN</td>\n",
       "      <td>0</td>\n",
       "      <td>20210502</td>\n",
       "    </tr>\n",
       "  </tbody>\n",
       "</table>\n",
       "</div>"
      ],
      "text/plain": [
       "         user_id  video_id  is_watch  is_share  is_collect  is_comment  \\\n",
       "3275584        2     25469         1         0           0           0   \n",
       "5290331        2     25469         0         0           0           0   \n",
       "2993539        2     25469         0         0           0           0   \n",
       "\n",
       "        watch_start_time  watch_label      pt_d  \n",
       "3275584       2021-04-18            3  20210419  \n",
       "5290331              NaN            0  20210421  \n",
       "2993539              NaN            0  20210502  "
      ]
     },
     "execution_count": 26,
     "metadata": {},
     "output_type": "execute_result"
    }
   ],
   "source": [
    "history_behavior[(history_behavior['user_id'] == 2) &\n",
    "               (history_behavior['video_id'] == 25469)]"
   ]
  },
  {
   "cell_type": "code",
   "execution_count": 27,
   "metadata": {
    "execution": {
     "iopub.execute_input": "2021-07-20T13:26:12.508310Z",
     "iopub.status.busy": "2021-07-20T13:26:12.507730Z",
     "iopub.status.idle": "2021-07-20T13:26:29.282145Z",
     "shell.execute_reply": "2021-07-20T13:26:29.281065Z",
     "shell.execute_reply.started": "2021-07-20T13:26:12.508261Z"
    },
    "tags": []
   },
   "outputs": [],
   "source": [
    "import torch\n",
    "import torch.nn.functional as F\n",
    "from torch.autograd import Variable\n",
    "from torch import nn\n",
    "from torch.utils.data import Dataset, DataLoader\n",
    "torch.manual_seed(0)\n",
    "\n",
    "class MLP(nn.Module):\n",
    "\n",
    "    def __init__(self, n_users=5910794, n_items=50352, layers=[64, 32], dropout=False):\n",
    "        super().__init__()\n",
    "        self.user_embedding = torch.nn.Embedding(n_users, 32)\n",
    "        self.video_embedding = torch.nn.Embedding(n_items, 32)\n",
    "\n",
    "        # list of weight matrices\n",
    "        self.fc_layers = torch.nn.ModuleList()\n",
    "        for _, (in_size, out_size) in enumerate(zip(layers[:-1], layers[1:])):\n",
    "            self.fc_layers.append(torch.nn.Linear(in_size, out_size))\n",
    "        self.output_layer1 = torch.nn.Linear(layers[-1], 10)\n",
    "        self.output_layer2 = torch.nn.Linear(layers[-1], 1)\n",
    "\n",
    "    def forward(self, feed_dict):\n",
    "        users = feed_dict['user_id']\n",
    "        items = feed_dict['video_id']\n",
    "        \n",
    "        user_embedding = self.user_embedding(users)\n",
    "        video_embedding = self.video_embedding(items)\n",
    "        \n",
    "        x = torch.cat([user_embedding, video_embedding], 1)\n",
    "        for idx, _ in enumerate(range(len(self.fc_layers))):\n",
    "            x = self.fc_layers[idx](x)\n",
    "            x = F.relu(x)\n",
    "            x = F.dropout(x)\n",
    "        logit1 = self.output_layer1(x)\n",
    "        logit2 = self.output_layer2(x)\n",
    "        return logit1, logit2\n",
    "\n",
    "    def predict(self, feed_dict):\n",
    "        for key in feed_dict:\n",
    "            if type(feed_dict[key]) != type(None):\n",
    "                feed_dict[key] = torch.from_numpy(\n",
    "                    feed_dict[key]).to(dtype=torch.long, device='cpu')\n",
    "        output_scores = self.forward(feed_dict)\n",
    "        return output_scores"
   ]
  },
  {
   "cell_type": "code",
   "execution_count": 28,
   "metadata": {
    "execution": {
     "iopub.execute_input": "2021-07-20T13:26:34.408281Z",
     "iopub.status.busy": "2021-07-20T13:26:34.407878Z",
     "iopub.status.idle": "2021-07-20T13:26:36.207217Z",
     "shell.execute_reply": "2021-07-20T13:26:36.206489Z",
     "shell.execute_reply.started": "2021-07-20T13:26:34.408248Z"
    },
    "tags": []
   },
   "outputs": [
    {
     "data": {
      "text/plain": [
       "(tensor([[ 0.0623,  0.5450, -0.2110, -0.1875,  0.6020,  0.0564, -0.0947,  0.2138,\n",
       "           0.2722,  0.4054],\n",
       "         [ 0.0419, -0.1215,  0.0942,  0.4227,  0.2295,  0.3764,  0.2028,  0.5010,\n",
       "           0.4307, -0.2037]], grad_fn=<AddmmBackward>),\n",
       " tensor([[-0.5280],\n",
       "         [-0.2592]], grad_fn=<AddmmBackward>))"
      ]
     },
     "execution_count": 28,
     "metadata": {},
     "output_type": "execute_result"
    }
   ],
   "source": [
    "model = MLP()\n",
    "model.predict({'user_id':np.array([10, 10]), 'video_id':np.array([10, 10])})"
   ]
  },
  {
   "cell_type": "code",
   "execution_count": 29,
   "metadata": {
    "execution": {
     "iopub.execute_input": "2021-07-20T13:26:38.241698Z",
     "iopub.status.busy": "2021-07-20T13:26:38.241152Z",
     "iopub.status.idle": "2021-07-20T13:26:51.333740Z",
     "shell.execute_reply": "2021-07-20T13:26:51.332809Z",
     "shell.execute_reply.started": "2021-07-20T13:26:38.241653Z"
    },
    "tags": []
   },
   "outputs": [],
   "source": [
    "model = model.cuda()"
   ]
  },
  {
   "cell_type": "code",
   "execution_count": 30,
   "metadata": {
    "execution": {
     "iopub.execute_input": "2021-07-20T13:27:34.171619Z",
     "iopub.status.busy": "2021-07-20T13:27:34.171050Z",
     "iopub.status.idle": "2021-07-20T13:27:34.181329Z",
     "shell.execute_reply": "2021-07-20T13:27:34.180356Z",
     "shell.execute_reply.started": "2021-07-20T13:27:34.171572Z"
    },
    "tags": []
   },
   "outputs": [],
   "source": [
    "class MLPDataset(Dataset):\n",
    "    def __init__(self, history_behavior, train=True):\n",
    "        self.history_behavior = history_behavior\n",
    "        self.train = train\n",
    "        \n",
    "    def __getitem__(self, index):\n",
    "        user_id = self.history_behavior.iloc[index]['user_id']\n",
    "        video_id = self.history_behavior.iloc[index]['video_id']\n",
    "                \n",
    "        if self.train:\n",
    "            watch_label = self.history_behavior.iloc[index]['val_watch']\n",
    "            share_label = self.history_behavior.iloc[index]['val_share']\n",
    "\n",
    "            watch_label = int(watch_label)\n",
    "            share_label = int(share_label)\n",
    "            \n",
    "            return user_id, video_id, \\\n",
    "                torch.from_numpy(np.array(watch_label)), \\\n",
    "                torch.from_numpy(np.array([share_label]))\n",
    "        else:\n",
    "            return user_id, video_id\n",
    "        \n",
    "    def __len__(self):\n",
    "        return len(self.history_behavior)\n",
    "    \n",
    "train_loader = torch.utils.data.DataLoader(\n",
    "    dataset = MLPDataset(train_behavior),\n",
    "    batch_size=20, shuffle=True, num_workers=5,\n",
    ")\n",
    "\n",
    "test_loader = torch.utils.data.DataLoader(\n",
    "    dataset = MLPDataset(test_data, train=False),\n",
    "    batch_size=20, shuffle=False, num_workers=5,\n",
    ")"
   ]
  },
  {
   "cell_type": "code",
   "execution_count": null,
   "metadata": {
    "execution": {
     "iopub.execute_input": "2021-07-20T13:27:35.277667Z",
     "iopub.status.busy": "2021-07-20T13:27:35.277133Z"
    },
    "tags": []
   },
   "outputs": [
    {
     "name": "stdout",
     "output_type": "stream",
     "text": [
      "0/4167 \t 3.0338246822357178\t0.0 tensor(0., device='cuda:0')\n",
      "100/4167 \t 1.989837646484375\t0.0 tensor(10., device='cuda:0')\n",
      "200/4167 \t 2.008729934692383\t0.0 tensor(12., device='cuda:0')\n",
      "300/4167 \t 1.4590831995010376\t0.0 tensor(17., device='cuda:0')\n",
      "400/4167 \t 2.0923895835876465\t0.0 tensor(10., device='cuda:0')\n",
      "500/4167 \t 1.8162164688110352\t0.0 tensor(9., device='cuda:0')\n",
      "600/4167 \t 1.8782297372817993\t0.0 tensor(13., device='cuda:0')\n",
      "700/4167 \t 1.6923723220825195\t0.0 tensor(13., device='cuda:0')\n",
      "800/4167 \t 2.2627367973327637\t0.0 tensor(9., device='cuda:0')\n",
      "900/4167 \t 1.7723089456558228\t0.0 tensor(13., device='cuda:0')\n",
      "1000/4167 \t 1.7256978750228882\t0.0 tensor(12., device='cuda:0')\n",
      "1100/4167 \t 1.7343461513519287\t0.0 tensor(13., device='cuda:0')\n",
      "1200/4167 \t 2.028472423553467\t0.0 tensor(11., device='cuda:0')\n",
      "1300/4167 \t 1.4978559017181396\t0.0 tensor(14., device='cuda:0')\n",
      "1400/4167 \t 1.9937201738357544\t0.0 tensor(12., device='cuda:0')\n",
      "1500/4167 \t 1.985774040222168\t0.0 tensor(14., device='cuda:0')\n",
      "1600/4167 \t 1.2403624057769775\t0.0 tensor(17., device='cuda:0')\n",
      "1700/4167 \t 1.921259880065918\t0.0 tensor(10., device='cuda:0')\n",
      "1800/4167 \t 2.133809804916382\t0.0 tensor(9., device='cuda:0')\n",
      "1900/4167 \t 1.9366209506988525\t0.0 tensor(10., device='cuda:0')\n",
      "2000/4167 \t 1.8970189094543457\t0.0 tensor(12., device='cuda:0')\n",
      "2100/4167 \t 1.7310280799865723\t0.0 tensor(13., device='cuda:0')\n",
      "2200/4167 \t 1.4741206169128418\t0.0 tensor(14., device='cuda:0')\n",
      "2300/4167 \t 2.0205352306365967\t0.0 tensor(11., device='cuda:0')\n",
      "2400/4167 \t 1.5663989782333374\t0.0 tensor(12., device='cuda:0')\n",
      "2500/4167 \t 1.9847670793533325\t0.0 tensor(12., device='cuda:0')\n",
      "2600/4167 \t 1.3902902603149414\t0.0 tensor(12., device='cuda:0')\n",
      "2700/4167 \t 1.8108996152877808\t0.0 tensor(12., device='cuda:0')\n",
      "2800/4167 \t 2.222893476486206\t0.0 tensor(10., device='cuda:0')\n",
      "2900/4167 \t 2.487140655517578\t0.0 tensor(6., device='cuda:0')\n",
      "3000/4167 \t 1.7815303802490234\t0.0 tensor(11., device='cuda:0')\n",
      "3100/4167 \t 2.0356764793395996\t0.0 tensor(12., device='cuda:0')\n",
      "3200/4167 \t 1.6450697183609009\t0.0 tensor(13., device='cuda:0')\n",
      "3300/4167 \t 2.053344964981079\t0.10000000149011612 tensor(11., device='cuda:0')\n",
      "3400/4167 \t 1.4381544589996338\t0.0 tensor(13., device='cuda:0')\n",
      "3500/4167 \t 1.9598522186279297\t0.09090909361839294 tensor(9., device='cuda:0')\n",
      "3600/4167 \t 2.138587474822998\t0.0 tensor(10., device='cuda:0')\n",
      "3700/4167 \t 1.5641566514968872\t0.1428571492433548 tensor(14., device='cuda:0')\n",
      "3800/4167 \t 1.76413893699646\t0.0 tensor(12., device='cuda:0')\n",
      "3900/4167 \t 1.6940544843673706\t0.0 tensor(14., device='cuda:0')\n",
      "4000/4167 \t 1.6331738233566284\t0.0 tensor(14., device='cuda:0')\n",
      "4100/4167 \t 1.6363285779953003\t0.0 tensor(14., device='cuda:0')\n",
      "0/4167 \t 2.1424572467803955\t0.0 tensor(10., device='cuda:0')\n",
      "100/4167 \t 1.9496519565582275\t0.0 tensor(10., device='cuda:0')\n",
      "200/4167 \t 2.140303373336792\t0.0 tensor(10., device='cuda:0')\n",
      "300/4167 \t 1.6846309900283813\t0.1111111119389534 tensor(12., device='cuda:0')\n",
      "400/4167 \t 1.6603217124938965\t0.0 tensor(14., device='cuda:0')\n",
      "500/4167 \t 1.9418052434921265\t0.1666666716337204 tensor(10., device='cuda:0')\n",
      "600/4167 \t 2.0412726402282715\t0.0 tensor(10., device='cuda:0')\n",
      "700/4167 \t 2.151181221008301\t0.0 tensor(10., device='cuda:0')\n",
      "800/4167 \t 1.7027411460876465\t0.125 tensor(12., device='cuda:0')\n",
      "900/4167 \t 1.5456362962722778\t0.0 tensor(12., device='cuda:0')\n",
      "1000/4167 \t 1.7162178754806519\t0.0 tensor(13., device='cuda:0')\n",
      "1100/4167 \t 1.8309569358825684\t0.0 tensor(12., device='cuda:0')\n",
      "1200/4167 \t 1.2908703088760376\t0.0 tensor(16., device='cuda:0')\n",
      "1300/4167 \t 1.6506799459457397\t0.0 tensor(12., device='cuda:0')\n",
      "1400/4167 \t 1.3797968626022339\t0.2857142984867096 tensor(15., device='cuda:0')\n",
      "1500/4167 \t 1.933455467224121\t0.0 tensor(8., device='cuda:0')\n",
      "1600/4167 \t 1.3731814622879028\t0.0 tensor(16., device='cuda:0')\n",
      "1700/4167 \t 1.8269094228744507\t0.1111111119389534 tensor(12., device='cuda:0')\n",
      "1800/4167 \t 2.099195957183838\t0.0 tensor(10., device='cuda:0')\n",
      "1900/4167 \t 1.2009460926055908\t0.4000000059604645 tensor(16., device='cuda:0')\n",
      "2000/4167 \t 2.3741743564605713\t0.09090909361839294 tensor(9., device='cuda:0')\n",
      "2100/4167 \t 2.2446985244750977\t0.0 tensor(8., device='cuda:0')\n",
      "2200/4167 \t 1.7218918800354004\t0.0 tensor(12., device='cuda:0')\n",
      "2300/4167 \t 1.5002849102020264\t0.2222222238779068 tensor(12., device='cuda:0')\n",
      "2400/4167 \t 1.5644323825836182\t0.0 tensor(13., device='cuda:0')\n",
      "2500/4167 \t 1.6808990240097046\t0.0 tensor(13., device='cuda:0')\n",
      "2600/4167 \t 1.0362212657928467\t0.5 tensor(18., device='cuda:0')\n",
      "2700/4167 \t 1.3577558994293213\t0.3333333432674408 tensor(15., device='cuda:0')\n",
      "2800/4167 \t 1.6534463167190552\t0.125 tensor(13., device='cuda:0')\n",
      "2900/4167 \t 1.7517116069793701\t0.0 tensor(12., device='cuda:0')\n",
      "3000/4167 \t 1.551427960395813\t0.0 tensor(13., device='cuda:0')\n",
      "3100/4167 \t 1.2347944974899292\t0.25 tensor(16., device='cuda:0')\n",
      "3200/4167 \t 1.5078636407852173\t0.2222222238779068 tensor(13., device='cuda:0')\n",
      "3300/4167 \t 1.5712929964065552\t0.1428571492433548 tensor(11., device='cuda:0')\n",
      "3400/4167 \t 1.9223920106887817\t0.0833333358168602 tensor(9., device='cuda:0')\n",
      "3500/4167 \t 1.69350266456604\t0.125 tensor(13., device='cuda:0')\n",
      "3600/4167 \t 1.4823038578033447\t0.375 tensor(14., device='cuda:0')\n",
      "3700/4167 \t 1.8385560512542725\t0.10000000149011612 tensor(10., device='cuda:0')\n",
      "3800/4167 \t 1.627036690711975\t0.125 tensor(13., device='cuda:0')\n",
      "3900/4167 \t 1.681775450706482\t0.0 tensor(13., device='cuda:0')\n",
      "4000/4167 \t 1.2614071369171143\t0.1666666716337204 tensor(15., device='cuda:0')\n",
      "4100/4167 \t 1.8194801807403564\t0.0 tensor(13., device='cuda:0')\n",
      "0/4167 \t 1.4830114841461182\t0.25 tensor(13., device='cuda:0')\n"
     ]
    }
   ],
   "source": [
    "wathch_loss_fn = nn.CrossEntropyLoss(weight=torch.FloatTensor([1,2,2,2,2,2,2,2,2,2]).cuda())\n",
    "shaere_loss_fn = nn.BCEWithLogitsLoss()\n",
    "optimizer = torch.optim.Adam(model.parameters(), lr=0.005)\n",
    "\n",
    "for _ in range(10):\n",
    "    for idx, data in enumerate(train_loader):\n",
    "        feed_dict = {\n",
    "            'user_id': data[0].long().cuda(),\n",
    "            'video_id': data[1].long().cuda(),\n",
    "        }\n",
    "        watch_label = data[2].long().cuda()\n",
    "        share_label = data[3].float().cuda()\n",
    "\n",
    "        optimizer.zero_grad()\n",
    "        wathch_pred, share_pred = model(feed_dict)\n",
    "        loss = wathch_loss_fn(wathch_pred, watch_label) + shaere_loss_fn(share_pred, share_label)\n",
    "\n",
    "        loss.backward()\n",
    "        optimizer.step()\n",
    "\n",
    "        acc = ((wathch_pred.argmax(1) == watch_label)[watch_label != 0]).float().sum()\n",
    "        acc /= (watch_label != 0).float().sum()\n",
    "\n",
    "        if idx % 100 == 0:\n",
    "            print(f'{idx}/{len(train_loader)} \\t {loss.item()}\\t{acc}', (wathch_pred.argmax(1) == watch_label).float().sum())\n",
    "            # print(wathch_pred.argmax(1))"
   ]
  },
  {
   "cell_type": "code",
   "execution_count": 19,
   "metadata": {
    "execution": {
     "iopub.execute_input": "2021-07-19T10:42:27.940606Z",
     "iopub.status.busy": "2021-07-19T10:42:27.940036Z",
     "iopub.status.idle": "2021-07-19T10:42:27.946175Z",
     "shell.execute_reply": "2021-07-19T10:42:27.945398Z",
     "shell.execute_reply.started": "2021-07-19T10:42:27.940558Z"
    },
    "tags": []
   },
   "outputs": [
    {
     "data": {
      "text/plain": [
       "tensor([ True,  True,  True, False,  True,  True,  True, False,  True,  True,\n",
       "         True,  True,  True, False,  True, False,  True,  True,  True],\n",
       "       device='cuda:0')"
      ]
     },
     "execution_count": 19,
     "metadata": {},
     "output_type": "execute_result"
    }
   ],
   "source": [
    "wathch_pred.argmax(1) == watch_label"
   ]
  },
  {
   "cell_type": "code",
   "execution_count": 20,
   "metadata": {
    "execution": {
     "iopub.execute_input": "2021-07-19T12:39:34.070494Z",
     "iopub.status.busy": "2021-07-19T12:39:34.069882Z",
     "iopub.status.idle": "2021-07-19T12:41:57.655570Z",
     "shell.execute_reply": "2021-07-19T12:41:57.654845Z",
     "shell.execute_reply.started": "2021-07-19T12:39:34.070443Z"
    },
    "tags": []
   },
   "outputs": [],
   "source": [
    "test_watch = []\n",
    "test_share = []\n",
    "with torch.no_grad():\n",
    "    for data in test_loader:\n",
    "        feed_dict = {\n",
    "            'user_id': data[0].long().cuda(),\n",
    "            'video_id': data[1].long().cuda(),\n",
    "        }\n",
    "        wathch_pred, share_pred = model(feed_dict)\n",
    "        \n",
    "        test_watch += list(wathch_pred.argmax(1).cpu().data.numpy())\n",
    "        test_share += list((share_pred.sigmoid() > 0.5).int().cpu().data.numpy().flatten())"
   ]
  },
  {
   "cell_type": "code",
   "execution_count": 73,
   "metadata": {
    "execution": {
     "iopub.execute_input": "2021-07-19T08:55:23.222073Z",
     "iopub.status.busy": "2021-07-19T08:55:23.221482Z",
     "iopub.status.idle": "2021-07-19T08:55:24.263345Z",
     "shell.execute_reply": "2021-07-19T08:55:24.262447Z",
     "shell.execute_reply.started": "2021-07-19T08:55:23.222025Z"
    },
    "tags": []
   },
   "outputs": [],
   "source": [
    "test_data['watch_label'] = test_watch\n",
    "test_data['is_share'] = test_share"
   ]
  },
  {
   "cell_type": "code",
   "execution_count": 75,
   "metadata": {
    "execution": {
     "iopub.execute_input": "2021-07-19T08:56:12.884082Z",
     "iopub.status.busy": "2021-07-19T08:56:12.883576Z",
     "iopub.status.idle": "2021-07-19T08:56:15.450868Z",
     "shell.execute_reply": "2021-07-19T08:56:15.449815Z",
     "shell.execute_reply.started": "2021-07-19T08:56:12.884040Z"
    },
    "tags": []
   },
   "outputs": [],
   "source": [
    "test_data.to_csv('submission.csv', index=None)"
   ]
  },
  {
   "cell_type": "code",
   "execution_count": 76,
   "metadata": {
    "execution": {
     "iopub.execute_input": "2021-07-19T08:57:08.384850Z",
     "iopub.status.busy": "2021-07-19T08:57:08.384427Z",
     "iopub.status.idle": "2021-07-19T08:57:11.487821Z",
     "shell.execute_reply": "2021-07-19T08:57:11.486325Z",
     "shell.execute_reply.started": "2021-07-19T08:57:08.384816Z"
    }
   },
   "outputs": [
    {
     "name": "stdout",
     "output_type": "stream",
     "text": [
      "  adding: submission.csv (deflated 63%)\n"
     ]
    }
   ],
   "source": [
    "!zip submission.csv.zip submission.csv"
   ]
  },
  {
   "cell_type": "code",
   "execution_count": null,
   "metadata": {},
   "outputs": [],
   "source": []
  }
 ],
 "metadata": {
  "kernelspec": {
   "display_name": "Python 3",
   "language": "python",
   "name": "python3"
  },
  "language_info": {
   "codemirror_mode": {
    "name": "ipython",
    "version": 3
   },
   "file_extension": ".py",
   "mimetype": "text/x-python",
   "name": "python",
   "nbconvert_exporter": "python",
   "pygments_lexer": "ipython3",
   "version": "3.6.9"
  },
  "toc-autonumbering": true
 },
 "nbformat": 4,
 "nbformat_minor": 4
}
